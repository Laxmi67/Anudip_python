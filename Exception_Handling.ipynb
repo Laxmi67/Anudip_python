{
  "cells": [
    {
      "cell_type": "markdown",
      "source": [
        "#**DATE:23/JULY/2024**\n",
        "#EXCEPTION HANDLING"
      ],
      "metadata": {
        "id": "LwpYztZfMjAx"
      }
    },
    {
      "cell_type": "markdown",
      "source": [
        "Ques : Write a python program to handle a ZeroDivisionError exception when dividing a number by zero.\n",
        "\n"
      ],
      "metadata": {
        "id": "0uyvjkPQM_dY"
      }
    },
    {
      "cell_type": "code",
      "source": [
        "num1=int(input(\"Enter first number: \"))\n",
        "num2=int(input(\"Enter division number: \"))\n",
        "try:\n",
        "   print(num1/num2)\n",
        "except ZeroDivisionError:\n",
        "  print(\"Error: Can not divide by 0\")"
      ],
      "metadata": {
        "id": "ZovB-zr6ND_e",
        "outputId": "99c19602-9dc3-43c1-8e5f-3e4655b83efb",
        "colab": {
          "base_uri": "https://localhost:8080/"
        }
      },
      "execution_count": null,
      "outputs": [
        {
          "output_type": "stream",
          "name": "stdout",
          "text": [
            "Enter first number: 78\n",
            "Enter division number: 0\n",
            "Error: Can not divide by 0\n"
          ]
        }
      ]
    },
    {
      "cell_type": "markdown",
      "source": [
        "Ques: Write a python program that prompts the user to input an integer and raises a ValueError exception if the input is not a valid integer."
      ],
      "metadata": {
        "id": "b2qgrz5YNLpA"
      }
    },
    {
      "cell_type": "code",
      "source": [
        "def get_integer_input(prompt):\n",
        "    user_input = input(prompt)\n",
        "    try:\n",
        "        return int(user_input)\n",
        "    except ValueError:\n",
        "        raise ValueError(f\"Invalid input: '{user_input}' is not a valid integer.\")\n",
        "\n",
        "try:\n",
        "    number = get_integer_input(\"Please enter an integer: \")\n",
        "    print(f\"You entered the integer: {number}\")\n",
        "except ValueError as e:\n",
        "    print(e)"
      ],
      "metadata": {
        "id": "K3P50kaQNQ_Y",
        "outputId": "11faeb11-c277-422f-da22-3579486b0277",
        "colab": {
          "base_uri": "https://localhost:8080/"
        }
      },
      "execution_count": null,
      "outputs": [
        {
          "output_type": "stream",
          "name": "stdout",
          "text": [
            "Please enter an integer: HelloWorld\n",
            "Invalid input: 'HelloWorld' is not a valid integer.\n"
          ]
        }
      ]
    },
    {
      "cell_type": "markdown",
      "source": [
        "Ques: write a python program that opena file and handles a file not found error Exception if file does not exsist"
      ],
      "metadata": {
        "id": "uC1ZyirbNbP-"
      }
    },
    {
      "cell_type": "code",
      "source": [
        "def read_file(file_path):\n",
        "    try:\n",
        "        with open(file_path, 'r') as file:\n",
        "            content = file.read()\n",
        "            return content\n",
        "    except FileNotFoundError:\n",
        "        print(f\"Error: The file '{file_path}' was not found.\")\n",
        "        return None\n",
        "\n",
        "file_path = input(\"Enter the path to the file: \")\n",
        "content = read_file(file_path)\n",
        "if content is not None:\n",
        "    print(\"File content:\")\n",
        "    print(content)"
      ],
      "metadata": {
        "id": "kXcAMV96Nf5u",
        "outputId": "f122126b-6829-4742-ed5a-5a9f8cb9d653",
        "colab": {
          "base_uri": "https://localhost:8080/"
        }
      },
      "execution_count": null,
      "outputs": [
        {
          "output_type": "stream",
          "name": "stdout",
          "text": [
            "Enter the path to the file: Myself.txt\n",
            "Error: The file 'Myself.txt' was not found.\n"
          ]
        }
      ]
    },
    {
      "cell_type": "markdown",
      "source": [
        "Ques: Write a python program that prompts the user to input two numbers and raises a TypeError exception if the inputs are not numerical."
      ],
      "metadata": {
        "id": "2TXcK5ObNrlp"
      }
    },
    {
      "cell_type": "code",
      "source": [
        "def get_numerical_input(prompt):\n",
        "    user_input = input(prompt)\n",
        "    try:\n",
        "        return float(user_input)\n",
        "    except ValueError:\n",
        "        raise TypeError(f\"Invalid input: '{user_input}' is not a valid number.\")\n",
        "8\n",
        "try:\n",
        "    number1 = get_numerical_input(\"Please enter the first number: \")\n",
        "    number2 = get_numerical_input(\"Please enter the second number: \")\n",
        "    print(f\"You entered the numbers: {number1} and {number2}\")\n",
        "except TypeError as e:\n",
        "    print(e)"
      ],
      "metadata": {
        "id": "OpWhhWcLNvLc",
        "outputId": "a6bb33e1-fd88-41d3-8d75-46f02eea5412",
        "colab": {
          "base_uri": "https://localhost:8080/"
        }
      },
      "execution_count": null,
      "outputs": [
        {
          "output_type": "stream",
          "name": "stdout",
          "text": [
            "Please enter the first number: 67\n",
            "Please enter the second number: 80\n",
            "You entered the numbers: 67.0 and 80.0\n"
          ]
        }
      ]
    }
  ],
  "metadata": {
    "colab": {
      "provenance": []
    },
    "kernelspec": {
      "display_name": "Python 3",
      "name": "python3"
    }
  },
  "nbformat": 4,
  "nbformat_minor": 0
}