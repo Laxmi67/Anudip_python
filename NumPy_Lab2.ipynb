{
  "cells": [
    {
      "cell_type": "markdown",
      "source": [
        "#**LAB : 2**"
      ],
      "metadata": {
        "id": "ApA8tj1Nf1bf"
      }
    },
    {
      "cell_type": "markdown",
      "source": [
        "Ques 1:Suppose you have a dataset containing daily temperature readings for a city, and you want to identify days with extreme temperature conditions. Find days where the temperature either exceeded 35 degrees celcius(not day) or dropped below 5 degrees celcius(cold day).\n",
        "\n",
        "Input: temperature=np.array([32.5,34.2,36.8,29.3,31.0,38.7,23.1,18.5,22.8,37.2])\n",
        "\n",
        "Output: Hot Days: Day Temperature(c) 3 : 36.8, 6 : 38.7, 10 : 37.2\n",
        "\n",
        "Cold days: Day Temperature(C) 11 : 4.0, 14 : -4.0, 15 : -12.0"
      ],
      "metadata": {
        "id": "Wm4w0paEeSWU"
      }
    },
    {
      "cell_type": "code",
      "source": [
        "import numpy as np\n",
        "temperature = np.array([32.5, 34.2, 36.8, 29.3, 31.0, 38.7, 23.1, 18.5, 22.8, 37.2, 4.0, 6.5, 5.5, -4.0, -12.0])\n",
        "hot_days = []\n",
        "cold_days = []\n",
        "\n",
        "for day, temp in enumerate(temperature, start=1):\n",
        "    if temp > 35:\n",
        "        hot_days.append((day, temp))\n",
        "    elif temp < 5:\n",
        "        cold_days.append((day, temp))\n",
        "\n",
        "print(\"Hot Days:\")\n",
        "print(\"Day      Temperature(C)\")\n",
        "for day, temp in hot_days:\n",
        "    print(day,\"\\t\",temp)\n",
        "\n",
        "print(\"\\nCold Days:\")\n",
        "print(\"Day      Temperature(C)\")\n",
        "for day, temp in cold_days:\n",
        "     print(day,\"\\t\",temp)"
      ],
      "metadata": {
        "id": "m2Uk8My9eziB",
        "outputId": "5cb265c1-6171-4d34-8979-c159b6882659",
        "colab": {
          "base_uri": "https://localhost:8080/"
        }
      },
      "execution_count": null,
      "outputs": [
        {
          "output_type": "stream",
          "name": "stdout",
          "text": [
            "Hot Days:\n",
            "Day      Temperature(C)\n",
            "3 \t 36.8\n",
            "6 \t 38.7\n",
            "10 \t 37.2\n",
            "\n",
            "Cold Days:\n",
            "Day      Temperature(C)\n",
            "11 \t 4.0\n",
            "14 \t -4.0\n",
            "15 \t -12.0\n"
          ]
        }
      ]
    },
    {
      "cell_type": "markdown",
      "source": [
        "Ques:2 Suppose you have a dataset containg months sales data for a company, and you want to split this data into quarterly reports for analysis and reporting purposes.\n",
        "\n",
        "Input: monthly_sales = np.array([120, 135, 148, 165, 180, 155, 168, 190, 205, 198, 210, 225])\n",
        "\n",
        "Output:\n",
        "\n",
        "Quarter 1 Sales (in thousands of dollars): [120 135 148]\n",
        "\n",
        "Quarter 2 Sales (in thousands of dollars): [165 180 155]\n",
        "\n",
        "Quarter 3 sales (in thousands of dollars):\n",
        "\n",
        "[168 190 205]\n",
        "\n",
        "Quarter 4 sales (in thousands of dollars):\n",
        "\n",
        "[198 210 225]"
      ],
      "metadata": {
        "id": "pbtXpRHUe66l"
      }
    },
    {
      "cell_type": "code",
      "source": [
        "import numpy as np\n",
        "monthly_sales = np.array([120, 135, 148, 165, 180, 155, 168, 190, 205, 198, 210, 225])\n",
        "# Split the data into 4 quarters\n",
        "quarters = np.split(monthly_sales, 4)\n",
        "\n",
        "print(\"Quarter 1 Sales (in thousands of dollars):\")\n",
        "print(quarters[0])\n",
        "\n",
        "print(\"\\nQuarter 2 Sales (in thousands of dollars):\")\n",
        "print(quarters[1])\n",
        "\n",
        "print(\"\\nQuarter 3 Sales (in thousands of dollars):\")\n",
        "print(quarters[2])\n",
        "\n",
        "print(\"\\nQuarter 4 Sales (in thousands of dollars):\")\n",
        "print(quarters[3])\n"
      ],
      "metadata": {
        "id": "2fs6BAx0fBPs",
        "outputId": "f18f6ae2-b2e4-4278-9042-d613370afd8d",
        "colab": {
          "base_uri": "https://localhost:8080/"
        }
      },
      "execution_count": null,
      "outputs": [
        {
          "output_type": "stream",
          "name": "stdout",
          "text": [
            "Quarter 1 Sales (in thousands of dollars):\n",
            "[120 135 148]\n",
            "\n",
            "Quarter 2 Sales (in thousands of dollars):\n",
            "[165 180 155]\n",
            "\n",
            "Quarter 3 Sales (in thousands of dollars):\n",
            "[168 190 205]\n",
            "\n",
            "Quarter 4 Sales (in thousands of dollars):\n",
            "[198 210 225]\n"
          ]
        }
      ]
    },
    {
      "cell_type": "markdown",
      "source": [
        "Ques:3 Suppose you have a dataset containing customer data, and you want to split this data into two groups: one group for customers who made a purchase in the last 30 days and another group for customers who haven't made a purchase in the last 30 days.\n",
        "\n",
        "Input:\n",
        "\n",
        "customer_ids = np.array([101, 102, 103, 104, 105, 106, 107, 108, 109, 110])\n",
        "\n",
        "last_purchase_days_ago = np.array([5, 15, 20, 25, 30, 35, 40, 45, 50, 55])\n",
        "\n",
        "Output: Active Customers (Last Purchase<=30 days ago): [101 102 103 104 105]\n",
        "\n",
        "Inactive Customers (Lasst Purchase> 30 Days ago): [106 107 108 109 110]"
      ],
      "metadata": {
        "id": "VwbAvUmMfGP7"
      }
    },
    {
      "cell_type": "code",
      "source": [
        "import numpy as np\n",
        "\n",
        "customer_ids = np.array([101, 102, 103, 104, 105, 106, 107, 108, 109, 110])\n",
        "last_purchase_days_ago = np.array([5, 15, 20, 25, 30, 35, 40, 45, 50, 55])\n",
        "\n",
        "active_mask = last_purchase_days_ago <= 30\n",
        "inactive_mask = last_purchase_days_ago > 30\n",
        "\n",
        "# Split the customer IDs into active and inactive groups based on the masks\n",
        "active_customers = customer_ids[active_mask]\n",
        "inactive_customers = customer_ids[inactive_mask]\n",
        "\n",
        "print(\"Active Customers (Last Purchase <= 30 days ago):\")\n",
        "print(active_customers)\n",
        "print(\"\\nInactive Customers (Last Purchase > 30 days ago):\")\n",
        "print(inactive_customers)"
      ],
      "metadata": {
        "id": "Fa1hFf5MfKyS",
        "outputId": "2f10c76c-9499-4f98-98a3-be4a4d15e981",
        "colab": {
          "base_uri": "https://localhost:8080/"
        }
      },
      "execution_count": null,
      "outputs": [
        {
          "output_type": "stream",
          "name": "stdout",
          "text": [
            "Active Customers (Last Purchase <= 30 days ago):\n",
            "[101 102 103 104 105]\n",
            "\n",
            "Inactive Customers (Last Purchase > 30 days ago):\n",
            "[106 107 108 109 110]\n"
          ]
        }
      ]
    },
    {
      "cell_type": "markdown",
      "source": [
        "Ques 4: Suppose you have two sets of employee data—one containing information about full-time employees and another containing information about part-time employees. You want to combine this data to create a comprehensive employee dataset for HR analysis.\n",
        "\n",
        "Input:\n",
        "\n",
        "full_time_employees = np.array([ [101, 'John Doe', 'Full-Time', 55000], [102, 'Jane Smith', 'Full-Time', 60000], [103, 'Mike Johnson', 'Full-Time', 52000] ])\n",
        "\n",
        "part_time_employees = np.array([ [201, 'Alice Brown', 'Part-Time', 25000], [202, 'Bob Wilson', 'Part-Time', 28000], [203, 'Emily Davis', 'Part-Time', 22000] ])\n",
        "\n",
        "Output:\n",
        "\n",
        "Combined Employee Data:\n",
        "\n",
        "Employee ID: 101, Name: John Doe , Type: Full-Time, Salary:55000\n",
        "\n",
        "Employee ID: 102, Name: Jane Smith , Type: Full-Time, Salary:60000\n",
        "\n",
        "Employee ID: 103, Name: Mike Johnson , Type: Full-Time, Salary:52000\n",
        "\n",
        "Employee ID: 201, Name: Alice Brown , Type: Part-Time, Salary:25000\n",
        "\n",
        "Employee ID: 202, Name: Bob Wilson , Type: Part-Time, Salary:28000\n",
        "\n",
        "Employee ID: 203, Name: Emily Davis , Type: Part-Time, Salary:22000"
      ],
      "metadata": {
        "id": "NywnxU5ZfQAE"
      }
    },
    {
      "cell_type": "code",
      "source": [
        "import numpy as np\n",
        "# Employee data for full-time employees\n",
        "full_time_employees = np.array([\n",
        "    [101, 'John Doe', 'Full-Time', 55000],\n",
        "    [102, 'Jane Smith', 'Full-Time', 60000],\n",
        "    [103, 'Mike Johnson', 'Full-Time', 52000]\n",
        "], dtype=object)\n",
        "# Employee data for part-time employees\n",
        "part_time_employees = np.array([\n",
        "    [201, 'Alice Brown', 'Part-Time', 25000],\n",
        "    [202, 'Bob Wilson', 'Part-Time', 28000],\n",
        "    [203, 'Emily Davis', 'Part-Time', 22000]\n",
        "], dtype=object)\n",
        "# Combine the datasets\n",
        "combined_employees = np.vstack((full_time_employees, part_time_employees))\n",
        "\n",
        "print(\"Combined Employee Data:\")\n",
        "for employee in combined_employees:\n",
        "    emp_id, name, emp_type, salary = employee\n",
        "    print(\"Employee ID: \",emp_id,\", Name: \",name,\", Type: \",emp_type,\", Salary: \",salary)"
      ],
      "metadata": {
        "id": "qDSpQ66KfRu9",
        "outputId": "e6ebf233-aed7-44d5-e9bd-e449184a3076",
        "colab": {
          "base_uri": "https://localhost:8080/"
        }
      },
      "execution_count": null,
      "outputs": [
        {
          "output_type": "stream",
          "name": "stdout",
          "text": [
            "Combined Employee Data:\n",
            "Employee ID:  101 , Name:  John Doe , Type:  Full-Time , Salary:  55000\n",
            "Employee ID:  102 , Name:  Jane Smith , Type:  Full-Time , Salary:  60000\n",
            "Employee ID:  103 , Name:  Mike Johnson , Type:  Full-Time , Salary:  52000\n",
            "Employee ID:  201 , Name:  Alice Brown , Type:  Part-Time , Salary:  25000\n",
            "Employee ID:  202 , Name:  Bob Wilson , Type:  Part-Time , Salary:  28000\n",
            "Employee ID:  203 , Name:  Emily Davis , Type:  Part-Time , Salary:  22000\n"
          ]
        }
      ]
    },
    {
      "cell_type": "markdown",
      "source": [
        "#Assignment"
      ],
      "metadata": {
        "id": "pYVZV34NfXaR"
      }
    },
    {
      "cell_type": "markdown",
      "source": [
        "Ques: 1 How to find the mean of every NumPy array in the given list?\n",
        "\n",
        "Input:\n",
        "\n",
        "list = [ np.array([3, 2, 8, 9]), np.array([4, 12, 34, 25, 78]), np.array([23, 12, 67]) ]\n",
        "\n",
        "Output:\n",
        "\n",
        "Mean of each array [5.5,30.6,34.0]"
      ],
      "metadata": {
        "id": "s3Fyn5m4fdj9"
      }
    },
    {
      "cell_type": "code",
      "source": [
        "import numpy as np\n",
        "list = [\n",
        "    np.array([3, 2, 8, 9]),\n",
        "    np.array([4, 12, 34, 25, 78]),\n",
        "    np.array([23, 12, 67])\n",
        "]\n",
        "means=[]\n",
        "for arr in list:\n",
        "  mean=np.mean(arr)\n",
        "  means.append(mean)\n",
        "print(\"Mean of Each array: \\n\",means)"
      ],
      "metadata": {
        "id": "GDa8YrgKfhd-",
        "outputId": "207104ce-626d-4a9c-c171-e7547547ee12",
        "colab": {
          "base_uri": "https://localhost:8080/"
        }
      },
      "execution_count": null,
      "outputs": [
        {
          "output_type": "stream",
          "name": "stdout",
          "text": [
            "Mean of Each array: \n",
            " [5.5, 30.6, 34.0]\n"
          ]
        }
      ]
    },
    {
      "cell_type": "markdown",
      "source": [
        "Ques:2 Compute the median of the flattened NumPy array\n",
        "\n",
        "Input: x_odd = np.array([1, 2, 3, 4, 5, 6, 7])\n",
        "\n",
        "Output:\n",
        "\n",
        "Printing the original array:\n",
        "\n",
        "[1 2 3 4 5 6 7]\n",
        "\n",
        "Median of the array that contains odd no of elements: 4.0"
      ],
      "metadata": {
        "id": "0-j7Opl-fly4"
      }
    },
    {
      "cell_type": "code",
      "source": [
        "import numpy as np\n",
        "x_odd = np.array([1, 2, 3, 4, 5, 6, 7])\n",
        "\n",
        "print(\"Printing the original array:\")\n",
        "print(x_odd)\n",
        "\n",
        "median_value = np.median(x_odd)\n",
        "print(\"\\nMedian of the array that contains odd no of elements:\\n\", median_value)\n"
      ],
      "metadata": {
        "id": "PXNcMKJcfnqn",
        "outputId": "0ac5a345-4333-46b4-b452-26174be71bac",
        "colab": {
          "base_uri": "https://localhost:8080/"
        }
      },
      "execution_count": null,
      "outputs": [
        {
          "output_type": "stream",
          "name": "stdout",
          "text": [
            "Printing the original array:\n",
            "[1 2 3 4 5 6 7]\n",
            "\n",
            "Median of the array that contains odd no of elements:\n",
            " 4.0\n"
          ]
        }
      ]
    },
    {
      "cell_type": "markdown",
      "source": [
        "Ques:3 Compute the standard deviation of the NumPy array\n",
        "\n",
        "Input: arr = [20, 2, 7, 1, 34]\n",
        "\n",
        "Output:\n",
        "\n",
        "arr:[20,2,7,1,34] std of arr : 12.576167933901206\n",
        "\n",
        "more precision with float32 std of arr : 12.576168\n",
        "\n",
        "More accuracy with float64 std of arr : 12.576167933901206"
      ],
      "metadata": {
        "id": "hUpb6n42fs7B"
      }
    },
    {
      "cell_type": "code",
      "source": [
        "import numpy as np\n",
        "arr = np.array([20, 2, 7, 1, 34])\n",
        "print(\"arr:\", arr)\n",
        "\n",
        "std_default = np.std(arr)\n",
        "print(\"\\nstd of arr: \", std_default)\n",
        "\n",
        "arr_float32 = arr.astype(np.float32)\n",
        "std_float32 = np.std(arr_float32)\n",
        "print(\"\\nMore precision with float32\")\n",
        "print(\"std of arr:\", std_float32)\n",
        "\n",
        "arr_float64 = arr.astype(np.float64)\n",
        "std_float64 = np.std(arr_float64)\n",
        "print(\"\\nMore precision with float64\")\n",
        "print(\"std of arr:\", std_float64)"
      ],
      "metadata": {
        "id": "AjGvaEdzfuEc",
        "outputId": "cc526f81-46c1-4361-ab5a-3265c08f8b66",
        "colab": {
          "base_uri": "https://localhost:8080/"
        }
      },
      "execution_count": null,
      "outputs": [
        {
          "output_type": "stream",
          "name": "stdout",
          "text": [
            "arr: [20  2  7  1 34]\n",
            "\n",
            "std of arr:  12.576167937809991\n",
            "\n",
            "More precision with float32\n",
            "std of arr: 12.576168\n",
            "\n",
            "More precision with float64\n",
            "std of arr: 12.576167937809991\n"
          ]
        }
      ]
    }
  ],
  "metadata": {
    "colab": {
      "provenance": []
    },
    "kernelspec": {
      "display_name": "Python 3",
      "name": "python3"
    }
  },
  "nbformat": 4,
  "nbformat_minor": 0
}