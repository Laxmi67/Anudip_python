{
  "cells": [
    {
      "cell_type": "markdown",
      "source": [
        "#**LAB : 1**"
      ],
      "metadata": {
        "id": "ZNzNyyjlgao5"
      }
    },
    {
      "cell_type": "markdown",
      "source": [
        "Ques 1: Convert the below list into numpy array then display the array.\n",
        "\n",
        "Input: my_list=[1,2,3,4,5]\n",
        "\n",
        "Output: Numpy array: [1 2 3 4 5]"
      ],
      "metadata": {
        "id": "iS83hBKIcTLC"
      }
    },
    {
      "cell_type": "code",
      "source": [
        "import numpy as np\n",
        "my_list=[1,2,3,4,5]\n",
        "print(\"Input List is: \",my_list)\n",
        "arr=np.array(my_list)\n",
        "print(\"Conversion of the Input List int an Array: \",arr)"
      ],
      "metadata": {
        "colab": {
          "base_uri": "https://localhost:8080/"
        },
        "id": "8V-xeLzfcZyS",
        "outputId": "9ef07af3-f666-402d-ec00-15c81ce35a38"
      },
      "execution_count": 2,
      "outputs": [
        {
          "output_type": "stream",
          "name": "stdout",
          "text": [
            "Input List is:  [1, 2, 3, 4, 5]\n",
            "Conversion of the Input List int an Array:  [1 2 3 4 5]\n"
          ]
        }
      ]
    },
    {
      "cell_type": "markdown",
      "source": [
        "Ques 2: Convert the below list into a numpy array then display the array then display the first and last index and then multiply each element by 2 and display the result.\n",
        "\n",
        "Input: my_list=[1,2,3,4,5]\n",
        "\n",
        "Output:First element:1\n",
        "\n",
        "Last element: 5\n",
        "\n",
        "Array after doubling each element: [2 4 6 8 10]"
      ],
      "metadata": {
        "id": "LIHmo5QLcemW"
      }
    },
    {
      "cell_type": "code",
      "source": [
        "import numpy as np\n",
        "my_list=[1,2,3,4,5]\n",
        "print(\"Input List is: \",my_list)\n",
        "arr=np.array(my_list)\n",
        "print(\"Conversion of the Input List int an Array: \",arr)\n",
        "first_ele=arr[0]\n",
        "print(\"First element: \",first_ele)\n",
        "last_ele=arr[-1]\n",
        "print(\"last element: \",last_ele)\n",
        "print(\"Array after doubling each element : \",arr*2)"
      ],
      "metadata": {
        "colab": {
          "base_uri": "https://localhost:8080/"
        },
        "id": "4DGF8WBPciD_",
        "outputId": "bb6dc4a4-eacd-47a0-acdc-58718400b2d6"
      },
      "execution_count": 1,
      "outputs": [
        {
          "output_type": "stream",
          "name": "stdout",
          "text": [
            "Input List is:  [1, 2, 3, 4, 5]\n",
            "Conversion of the Input List int an Array:  [1 2 3 4 5]\n",
            "First element:  1\n",
            "last element:  5\n",
            "Array after doubling each element :  [ 2  4  6  8 10]\n"
          ]
        }
      ]
    },
    {
      "cell_type": "markdown",
      "source": [
        "Ques 3: Write a NumPy program to create an array of 10 zeros, 10 ones, and 10 fives.\n",
        "\n",
        "Sample Output: An array of 10 zeros:\n",
        "\n",
        "[0.0.0.0.0.0.0.0.0.0.]\n",
        "\n",
        "An array of 10 ones: [1.1.1.1.1.1.1.1.1.1.]\n",
        "\n",
        "An array of 10 fives: [5.5.5.5.5.5.5.5.5.5.]"
      ],
      "metadata": {
        "id": "MZ5_DFpFclhh"
      }
    },
    {
      "cell_type": "code",
      "source": [
        "import numpy as np\n",
        "print(\"Array of 10 zeros: \\n\",np.zeros(10))\n",
        "print(\"Array of 10 ones: \\n\",np.ones(10))\n",
        "print(\"An array of 10 fives:\\n\",np.full(10, 5, dtype=float))"
      ],
      "metadata": {
        "colab": {
          "base_uri": "https://localhost:8080/"
        },
        "id": "WwczAEYRcvUT",
        "outputId": "a46e275e-e62e-49e4-dc26-22f655a100ba"
      },
      "execution_count": 3,
      "outputs": [
        {
          "output_type": "stream",
          "name": "stdout",
          "text": [
            "Array of 10 zeros: \n",
            " [0. 0. 0. 0. 0. 0. 0. 0. 0. 0.]\n",
            "Array of 10 ones: \n",
            " [1. 1. 1. 1. 1. 1. 1. 1. 1. 1.]\n",
            "An array of 10 fives:\n",
            " [5. 5. 5. 5. 5. 5. 5. 5. 5. 5.]\n"
          ]
        }
      ]
    },
    {
      "cell_type": "markdown",
      "source": [
        "Ques 4: Write a NumPy program to create a 3x3 matrix with values ranging from 2 to 10.\n",
        "\n",
        "Sample Output:\n",
        "\n",
        "[[2 3 4]\n",
        "\n",
        "[5 6 7]\n",
        "\n",
        "[8 9 10]]"
      ],
      "metadata": {
        "id": "ZOxUsIkpczj0"
      }
    },
    {
      "cell_type": "code",
      "source": [
        "import numpy as np\n",
        "mat=np.arange(2,11).reshape(3,3)\n",
        "print(\"3x3 matrix with values ranging from 2 to 10: \\n\",mat)"
      ],
      "metadata": {
        "colab": {
          "base_uri": "https://localhost:8080/"
        },
        "id": "bKut9G0ec2Ym",
        "outputId": "5ae2df6b-3f12-4a5e-c130-9cfbe06f53fe"
      },
      "execution_count": 4,
      "outputs": [
        {
          "output_type": "stream",
          "name": "stdout",
          "text": [
            "3x3 matrix with values ranging from 2 to 10: \n",
            " [[ 2  3  4]\n",
            " [ 5  6  7]\n",
            " [ 8  9 10]]\n"
          ]
        }
      ]
    }
  ],
  "metadata": {
    "colab": {
      "provenance": []
    },
    "kernelspec": {
      "display_name": "Python 3",
      "name": "python3"
    }
  },
  "nbformat": 4,
  "nbformat_minor": 0
}